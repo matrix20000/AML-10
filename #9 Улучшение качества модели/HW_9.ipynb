{
 "cells": [
  {
   "cell_type": "markdown",
   "metadata": {},
   "source": [
    "Для выполнения домашнего задания необходимо взять boston house-prices datase (sklearn.datasets.load_boston) и сделать тоже самое для задачи регрессии (попробовать разные алгоритмы, поподбирать параметры, вывести итоговое качество)."
   ]
  },
  {
   "cell_type": "code",
   "execution_count": 1,
   "metadata": {},
   "outputs": [],
   "source": [
    "from sklearn.datasets import load_boston\n",
    "import numpy as np\n",
    "import pandas as pd\n",
    "from sklearn.model_selection import train_test_split\n",
    "\n",
    "import warnings\n",
    "warnings.filterwarnings('ignore')"
   ]
  },
  {
   "cell_type": "code",
   "execution_count": 2,
   "metadata": {},
   "outputs": [],
   "source": [
    "boston = load_boston()"
   ]
  },
  {
   "cell_type": "code",
   "execution_count": 3,
   "metadata": {},
   "outputs": [],
   "source": [
    "X, y = load_boston(return_X_y=True)"
   ]
  },
  {
   "cell_type": "code",
   "execution_count": 4,
   "metadata": {},
   "outputs": [],
   "source": [
    "from sklearn.metrics import mean_squared_error, r2_score\n",
    "from sklearn.preprocessing import PolynomialFeatures\n",
    "from sklearn.preprocessing import MinMaxScaler\n",
    "from sklearn.linear_model import LinearRegression"
   ]
  },
  {
   "cell_type": "code",
   "execution_count": 5,
   "metadata": {},
   "outputs": [],
   "source": [
    "y = y.reshape(506,1)"
   ]
  },
  {
   "cell_type": "code",
   "execution_count": 6,
   "metadata": {},
   "outputs": [],
   "source": [
    "scaler = MinMaxScaler(feature_range=(-1, 1))\n",
    "X = scaler.fit_transform(X)\n",
    "y = scaler.fit_transform(y)"
   ]
  },
  {
   "cell_type": "markdown",
   "metadata": {},
   "source": [
    "#### Не понимаю почему появляется отрицательный результат"
   ]
  },
  {
   "cell_type": "code",
   "execution_count": 7,
   "metadata": {},
   "outputs": [
    {
     "name": "stdout",
     "output_type": "stream",
     "text": [
      "Accuracy: 0.71507, RMSE: 0.23842, R2: 0.71507\n",
      "Accuracy: 0.60747, RMSE: 0.25169, R2: 0.60747\n",
      "Accuracy: 0.85552, RMSE: 0.1428, R2: 0.85552\n",
      "Accuracy: 0.87882, RMSE: 0.14622, R2: 0.87882\n",
      "Accuracy: 0.72229, RMSE: 0.21354, R2: 0.72229\n",
      "Accuracy: 0.82998, RMSE: 0.16169, R2: 0.82998\n",
      "Accuracy: 0.87513, RMSE: 0.13727, R2: 0.87513\n",
      "Accuracy: 0.83231, RMSE: 0.16584, R2: 0.83231\n",
      "Accuracy: 0.84112, RMSE: 0.18471, R2: 0.84112\n",
      "Accuracy: 0.37792, RMSE: 0.23945, R2: 0.37792\n",
      "Accuracy: 0.78318, RMSE: 0.20042, R2: 0.78318\n",
      "Accuracy: 0.84666, RMSE: 0.1661, R2: 0.84666\n",
      "Accuracy: 0.8729, RMSE: 0.13934, R2: 0.8729\n",
      "Accuracy: 0.65997, RMSE: 0.2329, R2: 0.65997\n",
      "Accuracy: 0.83768, RMSE: 0.16898, R2: 0.83768\n",
      "Accuracy: 0.87413, RMSE: 0.1595, R2: 0.87413\n",
      "Accuracy: 0.81312, RMSE: 0.17208, R2: 0.81312\n",
      "Accuracy: 0.86194, RMSE: 0.15995, R2: 0.86194\n",
      "Accuracy: 0.03667, RMSE: 0.35451, R2: 0.03667\n",
      "Accuracy: 0.66384, RMSE: 0.22621, R2: 0.66384\n"
     ]
    }
   ],
   "source": [
    "# Обучим полиноминальрую регрессия \n",
    "\n",
    "poly_reg = PolynomialFeatures(degree=2)\n",
    "X_poly = poly_reg.fit_transform(X)\n",
    "\n",
    "model = LinearRegression(normalize =True)\n",
    "\n",
    "for i in range(20):\n",
    "    rand_state = np.random.randint(100) # Генерация случайного числа для random state\n",
    "    \n",
    "    X_train, X_test, y_train, y_test = train_test_split(X_poly, y, random_state=rand_state) # Разбиение датасета на обучаемую и тестовую выборку\n",
    "    \n",
    "    model.fit(X_train, y_train)\n",
    "    \n",
    "    predictions = model.predict(X_test)\n",
    "    \n",
    "    accuracy = model.score(X_test,y_test)\n",
    "    rmse  = np.sqrt(mean_squared_error(y_test,predictions))\n",
    "    r2 = r2_score(y_test,predictions)\n",
    "    \n",
    "    print('Accuracy: {}, RMSE: {}, R2: {}'.format(round(accuracy, 5), round(rmse, 5), round(r2, 5)))\n",
    "    "
   ]
  },
  {
   "cell_type": "markdown",
   "metadata": {},
   "source": [
    "Усредняем полученное качество на каждой из выборок для оценки итогового качества модели с помощью кросс-валидации"
   ]
  },
  {
   "cell_type": "code",
   "execution_count": 8,
   "metadata": {},
   "outputs": [],
   "source": [
    "from sklearn.model_selection import cross_val_score"
   ]
  },
  {
   "cell_type": "markdown",
   "metadata": {},
   "source": [
    "#### Не понимаю почему результат отрицательный, даже если брать не X_poly, А просто X, то результат все равно не очень хороший, пробовал разные CV= и при X_poly пробовал разные значение degree="
   ]
  },
  {
   "cell_type": "code",
   "execution_count": 9,
   "metadata": {},
   "outputs": [
    {
     "name": "stdout",
     "output_type": "stream",
     "text": [
      "[-5.48956296e-02  6.57314357e-01 -8.86155817e-01  6.43531144e-01\n",
      " -3.20515297e+00 -2.67150344e+02 -3.75085076e-01 -1.07930802e+00\n",
      " -4.87195783e+00 -3.14501749e+00]\n",
      "Average result: -27.947\n"
     ]
    }
   ],
   "source": [
    "\n",
    "results = cross_val_score(model, X_poly, y, cv=10)\n",
    "print(results)\n",
    "print('Average result: {}'.format(round(np.mean(results), 3)))"
   ]
  },
  {
   "cell_type": "code",
   "execution_count": 10,
   "metadata": {},
   "outputs": [],
   "source": [
    "from sklearn.neighbors import KNeighborsRegressor\n"
   ]
  },
  {
   "cell_type": "code",
   "execution_count": 11,
   "metadata": {},
   "outputs": [
    {
     "name": "stdout",
     "output_type": "stream",
     "text": [
      "Accuracy: 0.783, RMSE: 0.195, R2: 0.783\n",
      "Accuracy: 0.725, RMSE: 0.219, R2: 0.725\n",
      "Accuracy: 0.797, RMSE: 0.19, R2: 0.797\n",
      "Accuracy: 0.74, RMSE: 0.228, R2: 0.74\n",
      "Accuracy: 0.789, RMSE: 0.186, R2: 0.789\n",
      "Accuracy: 0.67, RMSE: 0.223, R2: 0.67\n",
      "Accuracy: 0.818, RMSE: 0.154, R2: 0.818\n",
      "Accuracy: 0.701, RMSE: 0.22, R2: 0.701\n",
      "Accuracy: 0.81, RMSE: 0.178, R2: 0.81\n",
      "Accuracy: 0.771, RMSE: 0.206, R2: 0.771\n",
      "Accuracy: 0.702, RMSE: 0.22, R2: 0.702\n",
      "Accuracy: 0.737, RMSE: 0.199, R2: 0.737\n",
      "Accuracy: 0.798, RMSE: 0.18, R2: 0.798\n",
      "Accuracy: 0.733, RMSE: 0.215, R2: 0.733\n",
      "Accuracy: 0.811, RMSE: 0.179, R2: 0.811\n",
      "Accuracy: 0.803, RMSE: 0.171, R2: 0.803\n",
      "Accuracy: 0.783, RMSE: 0.191, R2: 0.783\n",
      "Accuracy: 0.8, RMSE: 0.2, R2: 0.8\n",
      "Accuracy: 0.757, RMSE: 0.196, R2: 0.757\n",
      "Accuracy: 0.807, RMSE: 0.194, R2: 0.807\n"
     ]
    }
   ],
   "source": [
    "# Оставлю нормализованные данные, с ними результат лучше\n",
    "for i in range(20):\n",
    "    rand_state = np.random.randint(100) # Генерация случайного числа для random state\n",
    "    X_train, X_test, y_train, y_test = train_test_split(X, y, random_state=rand_state) # Разбиение датасета на обучаемую и тестовую выборку\n",
    "    # Обучение модели Knn\n",
    "    model = KNeighborsRegressor(n_neighbors=3) \n",
    "    model.fit(X_train, y_train)\n",
    "    predictions = model.predict(X_test)\n",
    "    \n",
    "    rmse  = np.sqrt(mean_squared_error(y_test,predictions))\n",
    "    r2 = r2_score(y_test,predictions)\n",
    "    accuracy = model.score(X_test, y_test) # Оценка качества модели\n",
    "    print('Accuracy: {}, RMSE: {}, R2: {}'.format(round(accuracy, 3), round(rmse, 3), round(r2, 3)))"
   ]
  },
  {
   "cell_type": "markdown",
   "metadata": {},
   "source": [
    "#### Опять результат при кросс валидации получается не очень"
   ]
  },
  {
   "cell_type": "markdown",
   "metadata": {},
   "source": [
    "### Попрпобую продолжить с KNeighborsRegressor"
   ]
  },
  {
   "cell_type": "code",
   "execution_count": 21,
   "metadata": {},
   "outputs": [
    {
     "name": "stdout",
     "output_type": "stream",
     "text": [
      "[0.60694289 0.24507148 0.31227324 0.35208976 0.35376368 0.05952744\n",
      " 0.23328688 0.31873525]\n",
      "Average result: 0.31\n"
     ]
    }
   ],
   "source": [
    "\n",
    "model = KNeighborsRegressor(n_neighbors=3)\n",
    "results = cross_val_score(model, X, y, cv=8)\n",
    "print(results)\n",
    "print('Average result: {}'.format(round(np.mean(results), 3)))"
   ]
  },
  {
   "cell_type": "code",
   "execution_count": 22,
   "metadata": {},
   "outputs": [
    {
     "name": "stdout",
     "output_type": "stream",
     "text": [
      "Neighbors count: 2\tAverage result: 0.241\n",
      "Neighbors count: 3\tAverage result: 0.31\n",
      "Neighbors count: 4\tAverage result: 0.324\n",
      "Neighbors count: 5\tAverage result: 0.324\n",
      "Neighbors count: 6\tAverage result: 0.311\n",
      "Neighbors count: 7\tAverage result: 0.304\n",
      "Neighbors count: 8\tAverage result: 0.279\n",
      "Neighbors count: 9\tAverage result: 0.272\n",
      "Neighbors count: 10\tAverage result: 0.265\n",
      "Neighbors count: 11\tAverage result: 0.264\n",
      "Neighbors count: 12\tAverage result: 0.266\n",
      "Neighbors count: 13\tAverage result: 0.274\n",
      "Neighbors count: 14\tAverage result: 0.276\n",
      "Neighbors count: 15\tAverage result: 0.266\n",
      "Neighbors count: 16\tAverage result: 0.254\n",
      "Neighbors count: 17\tAverage result: 0.244\n",
      "Neighbors count: 18\tAverage result: 0.241\n",
      "Neighbors count: 19\tAverage result: 0.23\n",
      "Neighbors count: 20\tAverage result: 0.228\n",
      "Neighbors count: 21\tAverage result: 0.217\n",
      "Neighbors count: 22\tAverage result: 0.213\n",
      "Neighbors count: 23\tAverage result: 0.207\n",
      "Neighbors count: 24\tAverage result: 0.201\n",
      "Neighbors count: 25\tAverage result: 0.185\n",
      "Neighbors count: 26\tAverage result: 0.177\n",
      "Neighbors count: 27\tAverage result: 0.169\n",
      "Neighbors count: 28\tAverage result: 0.154\n",
      "Neighbors count: 29\tAverage result: 0.15\n",
      "\n",
      "Best n_neighbors is 4\n"
     ]
    }
   ],
   "source": [
    "best_param = (3, 0.0)\n",
    "\n",
    "for n_neigh in range(2, 30):\n",
    "    model = KNeighborsRegressor(n_neighbors=n_neigh)\n",
    "    results = cross_val_score(model, X, y, cv=8)\n",
    "    avg_average = np.mean(results)\n",
    "    print('Neighbors count: {}\\tAverage result: {}'.format(n_neigh, round(avg_average, 3)))\n",
    "    \n",
    "    if avg_average > best_param[1]:\n",
    "        best_param = (n_neigh, avg_average)\n",
    "\n",
    "print('\\nBest n_neighbors is {}'.format(best_param[0]))"
   ]
  },
  {
   "cell_type": "code",
   "execution_count": 23,
   "metadata": {},
   "outputs": [],
   "source": [
    "from sklearn.model_selection import GridSearchCV"
   ]
  },
  {
   "cell_type": "code",
   "execution_count": 26,
   "metadata": {},
   "outputs": [
    {
     "data": {
      "text/plain": [
       "GridSearchCV(cv=8, estimator=KNeighborsRegressor(),\n",
       "             param_grid={'n_neighbors': [1, 2, 3, 4, 5, 6, 7, 8, 9, 10, 11, 12,\n",
       "                                         13, 14, 15, 16, 17, 18, 19, 20, 21, 22,\n",
       "                                         23, 24, 25, 26, 27, 28, 29, 30]},\n",
       "             scoring='r2')"
      ]
     },
     "execution_count": 26,
     "metadata": {},
     "output_type": "execute_result"
    }
   ],
   "source": [
    "k_range = list(range(1, 31))\n",
    "param_grid = dict(n_neighbors=k_range)\n",
    "grid = GridSearchCV(KNeighborsRegressor(), param_grid=param_grid, cv=8, scoring='r2')\n",
    "grid.fit(X, y)"
   ]
  },
  {
   "cell_type": "code",
   "execution_count": 27,
   "metadata": {},
   "outputs": [
    {
     "name": "stdout",
     "output_type": "stream",
     "text": [
      "mean_fit_time : 0.001001596450805664\n",
      "std_fit_time : 8.766544490265958e-06\n",
      "mean_score_time : 0.0009964406490325928\n",
      "std_score_time : 2.1422459930154023e-06\n",
      "param_n_neighbors : 1\n",
      "params : {'n_neighbors': 1}\n",
      "split0_test_score : 0.45790449156066304\n",
      "split1_test_score : 0.036229604554498196\n",
      "split2_test_score : 0.315833877540723\n",
      "split3_test_score : 0.5249311177216829\n",
      "split4_test_score : 0.09379975177909061\n",
      "split5_test_score : 0.1912814801530741\n",
      "split6_test_score : -0.20115641467814882\n",
      "split7_test_score : -2.208410440336393\n",
      "mean_test_score : -0.0986983164631012\n",
      "std_test_score : 0.8269892333827314\n",
      "rank_test_score : 30\n"
     ]
    }
   ],
   "source": [
    "for k in grid.cv_results_:\n",
    "    print(k, \":\", grid.cv_results_[k][0])"
   ]
  },
  {
   "cell_type": "code",
   "execution_count": 28,
   "metadata": {},
   "outputs": [
    {
     "name": "stdout",
     "output_type": "stream",
     "text": [
      "[-0.09869832  0.24101746  0.31021133  0.32442056  0.32404294  0.31096961\n",
      "  0.30427868  0.27944593  0.27172337  0.26544867  0.26432974  0.26568342\n",
      "  0.27423336  0.27569249  0.26637395  0.25430429  0.24438887  0.24051634\n",
      "  0.23000163  0.22819266  0.21689596  0.2134844   0.20685328  0.20093415\n",
      "  0.18505702  0.17667742  0.16882141  0.1543636   0.14999412  0.14400003]\n"
     ]
    }
   ],
   "source": [
    "test_scores = grid.cv_results_['mean_test_score']\n",
    "print(test_scores)"
   ]
  },
  {
   "cell_type": "code",
   "execution_count": 29,
   "metadata": {},
   "outputs": [],
   "source": [
    "import matplotlib.pyplot as plt"
   ]
  },
  {
   "cell_type": "code",
   "execution_count": 30,
   "metadata": {},
   "outputs": [
    {
     "data": {
      "text/plain": [
       "Text(0, 0.5, 'Cross-Validated Accuracy')"
      ]
     },
     "execution_count": 30,
     "metadata": {},
     "output_type": "execute_result"
    },
    {
     "data": {
      "image/png": "[encoded data removed]",
      "text/plain": [
       "<Figure size 432x288 with 1 Axes>"
      ]
     },
     "metadata": {
      "needs_background": "light"
     },
     "output_type": "display_data"
    }
   ],
   "source": [
    "plt.plot(k_range, test_scores)\n",
    "plt.xlabel('Value of K for KNN')\n",
    "plt.ylabel('Cross-Validated Accuracy')"
   ]
  },
  {
   "cell_type": "code",
   "execution_count": 31,
   "metadata": {},
   "outputs": [
    {
     "name": "stdout",
     "output_type": "stream",
     "text": [
      "0.3244205556611143\n",
      "{'n_neighbors': 4}\n",
      "KNeighborsRegressor(n_neighbors=4)\n"
     ]
    }
   ],
   "source": [
    "print(grid.best_score_)\n",
    "print(grid.best_params_)\n",
    "print(grid.best_estimator_)"
   ]
  },
  {
   "cell_type": "code",
   "execution_count": null,
   "metadata": {},
   "outputs": [],
   "source": []
  },
  {
   "cell_type": "code",
   "execution_count": null,
   "metadata": {},
   "outputs": [],
   "source": []
  }
 ],
 "metadata": {
  "kernelspec": {
   "display_name": "Python 3",
   "language": "python",
   "name": "python3"
  },
  "language_info": {
   "codemirror_mode": {
    "name": "ipython",
    "version": 3
   },
   "file_extension": ".py",
   "mimetype": "text/x-python",
   "name": "python",
   "nbconvert_exporter": "python",
   "pygments_lexer": "ipython3",
   "version": "3.7.4"
  }
 },
 "nbformat": 4,
 "nbformat_minor": 2
}
